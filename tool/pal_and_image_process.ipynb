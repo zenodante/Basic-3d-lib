{
 "cells": [
  {
   "cell_type": "code",
   "execution_count": 1,
   "metadata": {},
   "outputs": [],
   "source": [
    "import skimage\n",
    "import numpy as np\n",
    "import matplotlib.pyplot as plt"
   ]
  },
  {
   "cell_type": "markdown",
   "metadata": {},
   "source": [
    "### Create pal"
   ]
  },
  {
   "cell_type": "code",
   "execution_count": 2,
   "metadata": {},
   "outputs": [],
   "source": [
    "gamma = 0.8\n",
    "m16RGB = np.array([[[255,0,0],\n",
    "                    [255,102,0],\n",
    "                    [255,204,0],\n",
    "                    [204,255,0],\n",
    "                    [102,255,0],\n",
    "                    [0,255,0],\n",
    "                    [0,255,102],\n",
    "                    [0,255,204],   \n",
    "                    [0,204,255],\n",
    "                    [0,102,255],\n",
    "                    [0,0,255],\n",
    "                    [102,0,255],\n",
    "                    [204,0,255],\n",
    "                    [255,0,204],\n",
    "                    [255,0,102],\n",
    "                    [127,127,127]]])"
   ]
  },
  {
   "cell_type": "code",
   "execution_count": 3,
   "metadata": {},
   "outputs": [],
   "source": [
    "m16HSV=skimage.color.rgb2hsv(m16RGB/255.0)"
   ]
  },
  {
   "cell_type": "code",
   "execution_count": 4,
   "metadata": {},
   "outputs": [],
   "source": [
    "HSV256 = np.rot90(np.repeat(m16HSV,16,axis=0))"
   ]
  },
  {
   "cell_type": "code",
   "execution_count": 5,
   "metadata": {},
   "outputs": [],
   "source": [
    "RGB256 = skimage.color.hsv2rgb(HSV256)\n"
   ]
  },
  {
   "cell_type": "code",
   "execution_count": 6,
   "metadata": {},
   "outputs": [],
   "source": [
    "LAB256 = skimage.color.rgb2lab(RGB256)"
   ]
  },
  {
   "cell_type": "code",
   "execution_count": 7,
   "metadata": {},
   "outputs": [
    {
     "data": {
      "image/png": "[encoded data removed]",
      "text/plain": [
       "<Figure size 432x288 with 1 Axes>"
      ]
     },
     "metadata": {
      "needs_background": "light"
     },
     "output_type": "display_data"
    }
   ],
   "source": [
    "gamma = 0.8\n",
    "x=np.linspace(0,255,16)\n",
    "y=np.power(x,1.0/gamma)\n",
    "plt.plot(x,y)\n",
    "new_y = (y/y.max())*100"
   ]
  },
  {
   "cell_type": "code",
   "execution_count": 8,
   "metadata": {},
   "outputs": [],
   "source": [
    "for i in range(16):\n",
    "    LAB256[:,i,0]=new_y.astype(np.uint32)[i]"
   ]
  },
  {
   "cell_type": "code",
   "execution_count": 9,
   "metadata": {},
   "outputs": [
    {
     "name": "stderr",
     "output_type": "stream",
     "text": [
      "C:\\Anaconda3\\lib\\site-packages\\skimage\\color\\colorconv.py:988: UserWarning: Color data out of range: Z < 0 in 43 pixels\n",
      "  warn('Color data out of range: Z < 0 in %s pixels' % invalid[0].size)\n"
     ]
    }
   ],
   "source": [
    "RGB256 = skimage.color.lab2rgb(LAB256)"
   ]
  },
  {
   "cell_type": "code",
   "execution_count": 10,
   "metadata": {},
   "outputs": [
    {
     "data": {
      "text/plain": [
       "<matplotlib.image.AxesImage at 0x1777ca9f390>"
      ]
     },
     "execution_count": 10,
     "metadata": {},
     "output_type": "execute_result"
    },
    {
     "data": {
      "image/png": "[encoded data removed]",
      "text/plain": [
       "<Figure size 432x288 with 1 Axes>"
      ]
     },
     "metadata": {
      "needs_background": "light"
     },
     "output_type": "display_data"
    }
   ],
   "source": [
    "plt.imshow(RGB256)"
   ]
  },
  {
   "cell_type": "code",
   "execution_count": 11,
   "metadata": {},
   "outputs": [],
   "source": [
    "pal=(RGB256.flatten()*255).astype(np.uint32)"
   ]
  },
  {
   "cell_type": "code",
   "execution_count": 12,
   "metadata": {},
   "outputs": [],
   "source": [
    "#save as pal format\n",
    "fileName = \"out.pal\"\n",
    "with open(fileName,'w') as outFile:\n",
    "    outFile.write(\"JASC-PAL\\n\")\n",
    "    outFile.write(\"0100\\n\")\n",
    "    outFile.write(\"256\\n\")\n",
    "    for i in range(256):\n",
    "        outFile.write(\"%d %d %d\\n\"%(pal[i*3],pal[i*3 +1],pal[i*3+2]))"
   ]
  },
  {
   "cell_type": "code",
   "execution_count": 30,
   "metadata": {},
   "outputs": [],
   "source": [
    "#save as c format\n",
    "fileName = \"pal.c\"\n",
    "palName = 'default_pal'\n",
    "with open(fileName,'w') as outFile:\n",
    "    outFile.write(\"#include \\\"B3L_types.h\\\"\\n\")\n",
    "    outFile.write(\"u32 \"+palName+\"[256]={\\n\")\n",
    "    for i in range(16):\n",
    "        buf=\"\"\n",
    "        for j in range(16):\n",
    "            r= pal[i*16*3+j*3]\n",
    "            g= pal[i*16*3+j*3+1]\n",
    "            b= pal[i*16*3+j*3+2]\n",
    "            index = i*16+j\n",
    "            color = r|(g<<8)|(b<<16)|(index<<24)\n",
    "            buf +=\"0x%08X, \"%color\n",
    "            if j==7:\n",
    "                buf+='\\n'\n",
    "        buf +='\\n'\n",
    "        outFile.write(buf)\n",
    "    outFile.write(\"};\\n\")"
   ]
  },
  {
   "cell_type": "markdown",
   "metadata": {},
   "source": [
    "### Process Image"
   ]
  },
  {
   "cell_type": "code",
   "execution_count": 13,
   "metadata": {},
   "outputs": [],
   "source": [
    "from PIL import Image"
   ]
  },
  {
   "cell_type": "code",
   "execution_count": 14,
   "metadata": {},
   "outputs": [],
   "source": [
    "def quantizetopalette(silf, palette, dither=False):\n",
    "    \"\"\"Convert an RGB or L mode image to use a given P image's palette.\"\"\"\n",
    "\n",
    "    silf.load()\n",
    "\n",
    "    # use palette from reference image\n",
    "    palette.load()\n",
    "    if palette.mode != \"P\":\n",
    "        raise ValueError(\"bad mode for palette image\")\n",
    "    if silf.mode != \"RGB\" and silf.mode != \"L\":\n",
    "        raise ValueError(\n",
    "            \"only RGB or L mode images can be quantized to a palette\"\n",
    "            )\n",
    "    im = silf.im.convert(\"P\", 1 if dither else 0, palette.im)\n",
    "    # the 0 above means turn OFF dithering\n",
    "\n",
    "    # Later versions of Pillow (4.x) rename _makeself to _new\n",
    "    try:\n",
    "        return silf._new(im)\n",
    "    except AttributeError:\n",
    "        return silf._makeself(im)\n",
    "\n",
    "\n"
   ]
  },
  {
   "cell_type": "code",
   "execution_count": 15,
   "metadata": {},
   "outputs": [],
   "source": [
    "oldimage=Image.open('body.bmp')"
   ]
  },
  {
   "cell_type": "code",
   "execution_count": 16,
   "metadata": {},
   "outputs": [],
   "source": [
    "palimage = Image.new('P',(16,16))\n",
    "palimage.putpalette(list(pal))\n",
    "#newimage=oldimage.quantize(palette=palimage)\n",
    "newimage = quantizetopalette(oldimage, palimage, dither=False)\n",
    "newimage.show()"
   ]
  },
  {
   "cell_type": "code",
   "execution_count": 17,
   "metadata": {},
   "outputs": [],
   "source": [
    "imgarr = np.array(newimage)\n"
   ]
  },
  {
   "cell_type": "code",
   "execution_count": 18,
   "metadata": {},
   "outputs": [
    {
     "name": "stdout",
     "output_type": "stream",
     "text": [
      "(256, 256)\n"
     ]
    }
   ],
   "source": [
    "#image should be square and <256 pixel\n",
    "if (imgarr.shape[0]!=imgarr.shape[1]):\n",
    "    size = min(min(imgarr.shape[0],imgarr.shape[0]),256)\n",
    "    imgarr = imgarr[0:size,0:size]\n",
    "print(imgarr.shape)"
   ]
  },
  {
   "cell_type": "code",
   "execution_count": 19,
   "metadata": {},
   "outputs": [],
   "source": [
    "fileName = \"body2.c\"\n",
    "dataName = 'body_tex'\n",
    "ID = 0x00123123\n",
    "length = imgarr.shape[0]*imgarr.shape[0] + 6\n",
    "with open(fileName,'w') as outFile:\n",
    "    outFile.write(\"#include \\\"B3L_types.h\\\"\\n\")\n",
    "    outFile.write(\"#pragma pack(4)\\n\")\n",
    "    outFile.write(\"u8 \"+dataName+\"[%d]={\\n\"%(length))\n",
    "    ID0 = ID&0xff\n",
    "    ID1 = (ID>>8)&0xff\n",
    "    ID2 = (ID>>16)&0xff\n",
    "    ID3 = ID>>24\n",
    "    sizeHigh = (imgarr.shape[0]>>8)\n",
    "    sizeLow =  (imgarr.shape[0]&0xff)\n",
    "    outFile.write(\"0x%02X, 0x%02X, 0x%02X, 0x%02X, 0x%02X, 0x%02X,\\n\"%(ID0,ID1,ID2,ID3,sizeLow,sizeHigh))\n",
    "    for i in range(imgarr.shape[0]):\n",
    "        buf=\"\"\n",
    "        line = imgarr[i,:]\n",
    "        for j in range(imgarr.shape[0]):\n",
    "\n",
    "            idx = line[j]\n",
    "            #print(idx)\n",
    "            if (idx == 0):\n",
    "                idx= 1\n",
    "            buf +=\"0x%02X, \"%idx\n",
    "            if ((j+1)%16==0):\n",
    "                buf+='\\n'\n",
    "        buf +='\\n'\n",
    "        outFile.write(buf)\n",
    "    outFile.write(\"};\\n\")  "
   ]
  },
  {
   "cell_type": "code",
   "execution_count": null,
   "metadata": {},
   "outputs": [],
   "source": []
  }
 ],
 "metadata": {
  "kernelspec": {
   "display_name": "Python 3",
   "language": "python",
   "name": "python3"
  },
  "language_info": {
   "codemirror_mode": {
    "name": "ipython",
    "version": 3
   },
   "file_extension": ".py",
   "mimetype": "text/x-python",
   "name": "python",
   "nbconvert_exporter": "python",
   "pygments_lexer": "ipython3",
   "version": "3.7.3"
  }
 },
 "nbformat": 4,
 "nbformat_minor": 2
}
